{
 "cells": [
  {
   "cell_type": "code",
   "execution_count": 2,
   "id": "16554bbc",
   "metadata": {},
   "outputs": [],
   "source": [
    "import pandas as pd\n",
    "import numpy as np\n",
    "import os\n",
    "import glob\n",
    "import matplotlib.pyplot as plt\n",
    "import matplotlib.cm as cm\n",
    "import math\n",
    "import itertools"
   ]
  },
  {
   "cell_type": "markdown",
   "id": "e04fd614",
   "metadata": {},
   "source": [
    "Setup stuff (font, complete tables)"
   ]
  },
  {
   "cell_type": "code",
   "execution_count": 6,
   "id": "103ef6da",
   "metadata": {},
   "outputs": [
    {
     "name": "stdout",
     "output_type": "stream",
     "text": [
      "201\n"
     ]
    },
    {
     "data": {
      "text/plain": [
       "3221"
      ]
     },
     "execution_count": 6,
     "metadata": {},
     "output_type": "execute_result"
    }
   ],
   "source": [
    "plt.rcParams[\"font.family\"] = \"Times New Roman\" # Most important setup step\n",
    "\n",
    "hi = \"objid  redshift  redshift_error  ra_obj  dec_obj  f140w_mag  a_image_obj  b_image_obj  snr_tot_others  chisq  fwhm  fwhm_error  double_comp  la_1216_dz  la_1216_dz  c4_1548_dz  uv_line_dz  m2_2796_dz  o2_3727_dz  o3_5007_dz  s3_he_dz  la_1216_flux  la_1216_error  la_1216_ew_obs  la_1216_ratio  la_1216_contam  la_wing_flux  la_wing_error  la_wing_ew_obs  la_wing_ratio  la_wing_contam  la_1216_wing_flux  la_1216_wing_error  la_1216_wing_ew_obs  la_1216_wing_ratio  la_1216_wing_contam  n5_1238_flux  n5_1238_error  n5_1238_ew_obs  n5_1238_ratio  n5_1238_contam  n5_1242_flux  n5_1242_error  n5_1242_ew_obs  n5_1242_ratio  n5_1242_contam  n5_1238_1242_flux  n5_1238_1242_error  n5_1238_1242_ew_obs  n5_1238_1242_ratio  n5_1238_1242_contam  c4_1548_flux  c4_1548_error  c4_1548_ew_obs  c4_1548_ratio  c4_1548_contam  c4_1550_flux  c4_1550_error  c4_1550_ew_obs  c4_1550_ratio  c4_1550_contam  c4_1548_1550_flux  c4_1548_1550_error  c4_1548_1550_ew_obs  c4_1548_1550_ratio  c4_1548_1550_contam  h2_1640_flux  h2_1640_error  h2_1640_ew_obs  h2_1640_ratio  h2_1640_contam  o3_1660_flux  o3_1660_error  o3_1660_ew_obs  o3_1660_ratio  o3_1660_contam  o3_1666_flux  o3_1666_error  o3_1666_ew_obs  o3_1666_ratio  o3_1666_contam  o3_1660_1666_flux  o3_1660_1666_error  o3_1660_1666_ew_obs  o3_1660_1666_ratio  o3_1660_1666_contam  s3_1883_flux  s3_1883_error  s3_1883_ew_obs  s3_1883_ratio  s3_1883_contam  s3_1892_flux  s3_1892_error  s3_1892_ew_obs  s3_1892_ratio  s3_1892_contam  s3_1883_1892_flux  s3_1883_1892_error  s3_1883_1892_ew_obs  s3_1883_1892_ratio  s3_1883_1892_contam  c3_1907_flux  c3_1907_error  c3_1907_ew_obs  c3_1907_ratio  c3_1907_contam  c3_1909_flux  c3_1909_error  c3_1909_ew_obs  c3_1909_ratio  c3_1909_contam  c3_1907_1909_flux  c3_1907_1909_error  c3_1907_1909_ew_obs  c3_1907_1909_ratio  c3_1907_1909_contam  m2_2796_flux  m2_2796_error  m2_2796_ew_obs  m2_2796_ratio  m2_2796_contam  m2_2803_flux  m2_2803_error  m2_2803_ew_obs  m2_2803_ratio  m2_2803_contam  m2_2796_2803_flux  m2_2796_2803_error  m2_2796_2803_ew_obs  m2_2796_2803_ratio  m2_2796_2803_contam  o2_3727_flux  o2_3727_error  o2_3727_ew_obs  o2_3727_ratio  o2_3727_contam  o2_3730_flux  o2_3730_error  o2_3730_ew_obs  o2_3730_ratio  o2_3730_contam  o2_3727_3730_flux  o2_3727_3730_error  o2_3727_3730_ew_obs  o2_3727_3730_ratio  o2_3727_3730_contam  hg_4342_flux  hg_4342_error  hg_4342_ew_obs  hg_4342_ratio  hg_4342_contam  o3_4363_flux  o3_4363_error  o3_4363_ew_obs  o3_4363_ratio  o3_4363_contam  h2_4686_flux  h2_4686_error  h2_4686_ew_obs  h2_4686_ratio  h2_4686_contam  hb_4863_flux  hb_4863_error  hb_4863_ew_obs  hb_4863_ratio  hb_4863_contam  o3_4959_flux  o3_4959_error  o3_4959_ew_obs  o3_4959_ratio  o3_4959_contam  o3_5007_flux  o3_5007_error  o3_5007_ew_obs  o3_5007_ratio  o3_5007_contam  o3_4959_5007_flux  o3_4959_5007_error  o3_4959_5007_ew_obs  o3_4959_5007_ratio  o3_4959_5007_contam  o1_6300_flux  o1_6300_error  o1_6300_ew_obs  o1_6300_ratio  o1_6300_contam  o1_6363_flux  o1_6363_error  o1_6363_ew_obs  o1_6363_ratio  o1_6363_contam  o1_6300_6363_flux  o1_6300_6363_error  o1_6300_6363_ew_obs  o1_6300_6363_ratio  o1_6300_6363_contam  n2_6550_flux  n2_6550_error  n2_6550_ew_obs  n2_6550_ratio  n2_6550_contam  ha_6565_flux  ha_6565_error  ha_6565_ew_obs  ha_6565_ratio  ha_6565_contam  n2_6585_flux  n2_6585_error  n2_6585_ew_obs  n2_6585_ratio  n2_6585_contam  ha_6550_6565_6585_flux  ha_6550_6565_6585_error  ha_6550_6565_6585_ew_obs  ha_6550_6565_6585_ratio  ha_6550_6565_6585_contam  s2_6716_flux  s2_6716_error  s2_6716_ew_obs  s2_6716_ratio  s2_6716_contam  s2_6731_flux  s2_6731_error  s2_6731_ew_obs  s2_6731_ratio  s2_6731_contam  s2_6716_6731_flux  s2_6716_6731_error  s2_6716_6731_ew_obs  s2_6716_6731_ratio  s2_6716_6731_contam  s3_9069_flux  s3_9069_error  s3_9069_ew_obs  s3_9069_ratio  s3_9069_contam  s3_9532_flux  s3_9532_error  s3_9532_ew_obs  s3_9532_ratio  s3_9532_contam  s3_9069_9532_flux  s3_9069_9532_error  s3_9069_9532_ew_obs  s3_9069_9532_ratio  s3_9069_9532_contam  he10830_flux  he10830_error  he10830_ew_obs  he10830_ratio  he10830_contam  pg_10941_flux  pg_10941_error  pg_10941_ew_obs  pg_10941_ratio  pg_10941_contam  pb_12822_flux  pb_12822_error  pb_12822_ew_obs  pb_12822_ratio  pb_12822_contam  pa_18756_flux  pa_18756_error  pa_18756_ew_obs  pa_18756_ratio  pa_18756_contam  ne3_3869_flux  ne3_3869_error  ne3_3869_ew_obs  ne3_3869_ratio  ne3_3869_contam\"\n",
    "\n",
    "\n",
    "substring = \"  \"\n",
    "\n",
    "# Find all occurrences using str.find in a loop\n",
    "positions = []\n",
    "\n",
    "start = 0\n",
    "while True:\n",
    "    start = hi.find(substring, start)\n",
    "    if start == -1:\n",
    "        break\n",
    "    positions.append(start)\n",
    "    start += len(substring)\n",
    "\n",
    "print(np.searchsorted(np.array(positions),3220))\n",
    "hi.find(\"ha_6565_flux\")"
   ]
  },
  {
   "cell_type": "markdown",
   "id": "5085f2bb",
   "metadata": {},
   "source": [
    "for every field called, get the requested parameters from \"POPPIESXXXlines_catalog_nevin.dat\" for the objects listed in \"XXX_BL.txt\"\n",
    "\n",
    "index key:\n",
    "\n",
    "0: object number\n",
    "\n",
    "1: redshift\n",
    "\n",
    "2: redshift uncertainty\n",
    "\n",
    "10: fwhm\n",
    "\n",
    "11: fwhm uncertainty\n",
    "\n",
    "201: ha flux\n",
    "\n",
    "| Index | Key |\n",
    "| --- | --- |\n",
    "| 0 | object number |\n",
    "| 1 | redshift |\n",
    "| 2 | redshift uncertainty |\n",
    "| 10 | fwhm |\n",
    "| 11 | fwhm uncertainty |\n"
   ]
  },
  {
   "cell_type": "code",
   "execution_count": null,
   "id": "db1e69ed",
   "metadata": {},
   "outputs": [],
   "source": [
    "def get_data(field_num):\n",
    "    field_data = np.genfromtxt(fname=\"POPPIES\"+str(field_num)+\"lines_catalog_nevin.dat\",usecols=(0,1,2,10,11),skip_header=1)\n",
    "    field_broads = np.genfromtxt(fname=str(field_num)+\"_BL.txt\")\n",
    "    broad_indices = np.searchsorted(field_data[:,0],field_broads)\n",
    "    broad_data = np.take(field_data,broad_indices,axis=0) # this array has the data I want to use\n",
    "    broad_data = np.hstack((broad_data,np.full((len(broad_data[:,0]),1),field_num)))\n",
    "    print(len(broad_data))\n",
    "    return broad_data\n"
   ]
  },
  {
   "cell_type": "code",
   "execution_count": 18,
   "id": "cc9153bb",
   "metadata": {},
   "outputs": [
    {
     "name": "stdout",
     "output_type": "stream",
     "text": [
      "4\n",
      "33\n",
      "30\n"
     ]
    }
   ],
   "source": [
    "broad_data_1 = get_data(1)\n",
    "broad_data_2 = get_data(2)\n",
    "broad_data_25 = get_data(25)"
   ]
  },
  {
   "cell_type": "code",
   "execution_count": null,
   "id": "3dbac09e",
   "metadata": {},
   "outputs": [],
   "source": [
    "complete_data = np.vstack((broad_data_1,broad_data_2,broad_data_25))\n"
   ]
  },
  {
   "cell_type": "code",
   "execution_count": null,
   "id": "adbb8908",
   "metadata": {},
   "outputs": [],
   "source": [
    "\n",
    "\n",
    "def get_data2(field_num):\n",
    "  field_data = pd.read_csv(\"POPPIES\"+str(field_num)+\"lines_catalog_nevin.dat\",sep=\"\\s+\",usecols=[0,1,2,10,11,201,202])\n",
    "  field_broads = np.genfromtxt(fname=str(field_num)+\"_BL.txt\")\n",
    "  broad_data = field_data[field_data[\"objid\"].isin(field_broads)]\n",
    "  luminosity_distance = Planck18.luminosity_distance(broad_data[\"redshift\"].tolist())\n",
    "  flux = broad_data[\"ha_6565_flux\"].tolist() * u.erg / (u.cm**2 * u.s)\n",
    "  luminosities = (4*np.pi*luminosity_distance**2*flux).to(u.erg / u.s)\n",
    "  Masses = 10**(0.683 + 6.688 + 0.812*(np.log10(luminosities.value) - 42) + 1.634 * (np.log(broad_data[\"fwhm\"].tolist()) - 3.5)) # solar masses\n",
    "  Masses_error = 10**(((0.150)**2 + (1.634 * np.log10(broad_data[\"fwhm_error\"].tolist()))**2)**0.5)\n",
    "  broad_data.insert(loc=7,column=\"luminosity\",value=luminosities.value)\n",
    "  broad_data.insert(loc=8,column=\"mass\",value=Masses) \n",
    "  broad_data.insert(loc=9,column=\"mass_error\",value=Masses_error)\n",
    "  plt.errorbar(broad_data[\"redshift\"],broad_data[\"mass\"],yerr=broad_data[\"mass_error\"],capsize=0,linestyle=\"None\",marker=\".\",label=str(field_num))\n",
    "  return broad_data"
   ]
  },
  {
   "cell_type": "markdown",
   "id": "82203a92",
   "metadata": {},
   "source": []
  }
 ],
 "metadata": {
  "kernelspec": {
   "display_name": "scarif",
   "language": "python",
   "name": "python3"
  },
  "language_info": {
   "codemirror_mode": {
    "name": "ipython",
    "version": 3
   },
   "file_extension": ".py",
   "mimetype": "text/x-python",
   "name": "python",
   "nbconvert_exporter": "python",
   "pygments_lexer": "ipython3",
   "version": "3.12.7"
  }
 },
 "nbformat": 4,
 "nbformat_minor": 5
}
